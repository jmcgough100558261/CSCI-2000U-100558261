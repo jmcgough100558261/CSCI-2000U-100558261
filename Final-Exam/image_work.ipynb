{
 "cells": [
  {
   "cell_type": "code",
   "execution_count": 35,
   "metadata": {
    "collapsed": true
   },
   "outputs": [],
   "source": [
    "%matplotlib inline\n",
    "import numpy as np\n",
    "import pylab as plt\n",
    "import copy"
   ]
  },
  {
   "cell_type": "code",
   "execution_count": 38,
   "metadata": {
    "collapsed": false
   },
   "outputs": [
    {
     "name": "stdout",
     "output_type": "stream",
     "text": [
      "The dimension of the RGB image is\n",
      "3\n"
     ]
    }
   ],
   "source": [
    "#Loads the image\n",
    "rgb_peppers = plt.imread('peppers.png')\n",
    "#Prints dimensions of rgb_peppers\n",
    "print(\"The dimension of the RGB image is\")\n",
    "print(rgb_peppers.ndim)"
   ]
  },
  {
   "cell_type": "code",
   "execution_count": 57,
   "metadata": {
    "collapsed": false
   },
   "outputs": [],
   "source": [
    "#Creates an array with the grayscale version of the image\n",
    "import skimage.color\n",
    "gray_peppers = skimage.color.rgb2gray(rgb_peppers)\n",
    "\n",
    "#Saves the grayscale image\n",
    "plt.imsave('peppers-gray.png', gray_peppers)"
   ]
  },
  {
   "cell_type": "code",
   "execution_count": 65,
   "metadata": {
    "collapsed": false
   },
   "outputs": [
    {
     "name": "stdout",
     "output_type": "stream",
     "text": [
      "For the grayscale image of peppers.png:\n",
      "Minimum:\n",
      "0.02914745124\n",
      "Maximum:\n",
      "1.0\n",
      "Median:\n",
      "0.21444000636\n"
     ]
    }
   ],
   "source": [
    "print(\"For the grayscale image of peppers.png:\")\n",
    "print(\"Minimum:\")\n",
    "print(np.min(gray_peppers))\n",
    "print(\"Maximum:\")\n",
    "print(np.max(gray_peppers))\n",
    "print(\"Median:\")\n",
    "print(np.median(gray_peppers))"
   ]
  },
  {
   "cell_type": "code",
   "execution_count": null,
   "metadata": {
    "collapsed": true
   },
   "outputs": [],
   "source": []
  }
 ],
 "metadata": {
  "kernelspec": {
   "display_name": "Python 2",
   "language": "python",
   "name": "python2"
  },
  "language_info": {
   "codemirror_mode": {
    "name": "ipython",
    "version": 2
   },
   "file_extension": ".py",
   "mimetype": "text/x-python",
   "name": "python",
   "nbconvert_exporter": "python",
   "pygments_lexer": "ipython2",
   "version": "2.7.10"
  }
 },
 "nbformat": 4,
 "nbformat_minor": 0
}
