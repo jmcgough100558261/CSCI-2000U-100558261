{
 "cells": [
  {
   "cell_type": "code",
   "execution_count": 35,
   "metadata": {
    "collapsed": true
   },
   "outputs": [],
   "source": [
    "%matplotlib inline\n",
    "import matplotlib.pyplot as plt\n",
    "import numpy as np"
   ]
  },
  {
   "cell_type": "code",
   "execution_count": 58,
   "metadata": {
    "collapsed": false
   },
   "outputs": [
    {
     "name": "stdout",
     "output_type": "stream",
     "text": [
      "('The most recent obervation was on', '2015,05,31,2015.411, 17,0\\n')\n"
     ]
    }
   ],
   "source": [
    "def read_data(filename):\n",
    "    \"\"\"Read data from filename and return a list.\"\"\"\n",
    "    r = []\n",
    "    file = open(filename, mode=\"r\")\n",
    "    for line in file:\n",
    "        r.append(line)\n",
    "    file.close()\n",
    "    return r\n",
    "\n",
    "data = np.array(read_data(\"ISSN_D_tot.csv\"))\n",
    "max_date = 0\n",
    "for i in range(len(data)):\n",
    "    if (data[i] > max_date):\n",
    "        max_date = data[i]\n",
    "print('The most recent obervation was on',max_date)"
   ]
  },
  {
   "cell_type": "code",
   "execution_count": null,
   "metadata": {
    "collapsed": false
   },
   "outputs": [],
   "source": []
  },
  {
   "cell_type": "code",
   "execution_count": null,
   "metadata": {
    "collapsed": true
   },
   "outputs": [],
   "source": []
  }
 ],
 "metadata": {
  "kernelspec": {
   "display_name": "Python 2",
   "language": "python",
   "name": "python2"
  },
  "language_info": {
   "codemirror_mode": {
    "name": "ipython",
    "version": 2
   },
   "file_extension": ".py",
   "mimetype": "text/x-python",
   "name": "python",
   "nbconvert_exporter": "python",
   "pygments_lexer": "ipython2",
   "version": "2.7.10"
  }
 },
 "nbformat": 4,
 "nbformat_minor": 0
}
