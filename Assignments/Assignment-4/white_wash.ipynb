{
 "cells": [
  {
   "cell_type": "code",
   "execution_count": 1,
   "metadata": {
    "collapsed": false
   },
   "outputs": [
    {
     "name": "stdout",
     "output_type": "stream",
     "text": [
      "Map before WhiteWash:\n",
      "[[ 0.35111232  0.7128979   0.28672062]\n",
      " [ 0.12826558  0.77797793  0.2453704 ]\n",
      " [ 0.15861325  0.77122589  0.01529848]\n",
      " [ 0.23558588  0.54175746  0.06762492]]\n",
      "Map after WhiteWash:\n",
      "[[ 0.67555616  0.85644895  0.64336031]\n",
      " [ 0.56413279  0.88898896  0.6226852 ]\n",
      " [ 0.57930663  0.88561294  0.50764924]\n",
      " [ 0.61779294  0.77087873  0.53381246]]\n"
     ]
    }
   ],
   "source": [
    "#Jesse McGough\n",
    "#100558261\n",
    "\n",
    "import numpy as np\n",
    "\n",
    "#Compares the given colour map with the colour white (which is [1,1,1])\n",
    "def WhiteWash(colourmap):\n",
    "    for i in range(len(colourmap)):\n",
    "        colourmap[i][0] = (colourmap[i][0]+1)/2\n",
    "        colourmap[i][1] = (colourmap[i][1]+1)/2\n",
    "        colourmap[i][2] = (colourmap[i][2]+1)/2\n",
    "    return colourmap\n",
    "\n",
    "#Creates a random colour map for input\n",
    "colours = np.random.rand(4,3)\n",
    "\n",
    "#Prints out what is needed\n",
    "print(\"Map before WhiteWash:\")\n",
    "print(colours)\n",
    "print(\"Map after WhiteWash:\")\n",
    "print(WhiteWash(colours))"
   ]
  },
  {
   "cell_type": "code",
   "execution_count": null,
   "metadata": {
    "collapsed": true
   },
   "outputs": [],
   "source": []
  }
 ],
 "metadata": {
  "kernelspec": {
   "display_name": "Python 2",
   "language": "python",
   "name": "python2"
  },
  "language_info": {
   "codemirror_mode": {
    "name": "ipython",
    "version": 2
   },
   "file_extension": ".py",
   "mimetype": "text/x-python",
   "name": "python",
   "nbconvert_exporter": "python",
   "pygments_lexer": "ipython2",
   "version": "2.7.10"
  }
 },
 "nbformat": 4,
 "nbformat_minor": 0
}
