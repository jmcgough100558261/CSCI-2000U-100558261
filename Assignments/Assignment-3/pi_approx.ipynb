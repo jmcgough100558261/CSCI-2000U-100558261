{
 "cells": [
  {
   "cell_type": "code",
   "execution_count": 31,
   "metadata": {
    "collapsed": false
   },
   "outputs": [
    {
     "name": "stdout",
     "output_type": "stream",
     "text": [
      "When n = 10, rho_n = 3\n",
      "When n = 10, rho_n = 3\n",
      "When n = 10, rho_n = 3\n",
      "When n = 100, rho_n = 3\n",
      "When n = 100, rho_n = 3\n",
      "When n = 100, rho_n = 3\n",
      "When n = 1000, rho_n = 3\n",
      "When n = 1000, rho_n = 3\n",
      "When n = 1000, rho_n = 3\n",
      "When n = 10000, rho_n = 3\n",
      "When n = 10000, rho_n = 3\n",
      "When n = 10000, rho_n = 3\n",
      "When n = 100000, rho_n = 3\n",
      "When n = 100000, rho_n = 3\n",
      "When n = 100000, rho_n = 3\n",
      "When n = 1000000, rho_n = 3\n",
      "When n = 1000000, rho_n = 3\n",
      "When n = 1000000, rho_n = 3\n"
     ]
    }
   ],
   "source": [
    "#Jesse McGough\n",
    "#100558261\n",
    "\n",
    "#Importing numpy as np, to use it later\n",
    "import numpy as np\n",
    "\n",
    "#Calculates the summation according to rho n\n",
    "def rho_n(n):\n",
    "    rho_sum=0.0\n",
    "    for k in range(1,n+1):\n",
    "        rho_sum += (((-1.0)**(k+1.0))/(2.0*k - 1.0))\n",
    "    rho_sum*=4.0\n",
    "    return rho_sum\n",
    "\n",
    "#Calculates the summation according to tau n\n",
    "def tau_n(n):\n",
    "    tau_sum=0.0\n",
    "    for k in range(1,n+1):\n",
    "        tau_sum += (1.0/(k**2.0))\n",
    "    tau_sum=((6.0*tau_sum)**0.5)\n",
    "    return tau_sum\n",
    "\n",
    "#Calculates the summation acroding to mu n\n",
    "def mu_n(n):\n",
    "    mu_sum=0.0\n",
    "    for k in range(1,n+1):\n",
    "        mu_sum += (1.0/(k**4.0))\n",
    "    mu_sum=((90.0*mu_sum)**0.25)\n",
    "    return mu_sum\n",
    "\n",
    "#Defines a variable that is used in place of 'n' for calculations\n",
    "count=10\n",
    "\n",
    "#Prints out the calculations\n",
    "#Only prints integers as I am not sure how to make it print floats\n",
    "while (count <= 1000000):\n",
    "    print (\"When n = %s, rho_n = %d\" % (count, rho_n(count)))\n",
    "    print (\"When n = %s, rho_n = %d\" % (count, tau_n(count)))\n",
    "    print (\"When n = %s, rho_n = %d\" % (count, mu_n(count)))\n",
    "    count*=10"
   ]
  },
  {
   "cell_type": "code",
   "execution_count": null,
   "metadata": {
    "collapsed": true
   },
   "outputs": [],
   "source": []
  }
 ],
 "metadata": {
  "kernelspec": {
   "display_name": "Python 2",
   "language": "python",
   "name": "python2"
  },
  "language_info": {
   "codemirror_mode": {
    "name": "ipython",
    "version": 2
   },
   "file_extension": ".py",
   "mimetype": "text/x-python",
   "name": "python",
   "nbconvert_exporter": "python",
   "pygments_lexer": "ipython2",
   "version": "2.7.10"
  }
 },
 "nbformat": 4,
 "nbformat_minor": 0
}
